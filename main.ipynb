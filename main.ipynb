{
 "cells": [
  {
   "cell_type": "code",
   "execution_count": 2,
   "metadata": {},
   "outputs": [],
   "source": [
    "import numpy as np \n",
    "import cv2 as cv"
   ]
  },
  {
   "cell_type": "code",
   "execution_count": 3,
   "metadata": {},
   "outputs": [],
   "source": [
    "def getLimits(color):\n",
    "    \n",
    "    c = np.uint8([[color]])\n",
    "    hsvC = cv.cvtColor(c, cv.COLOR_BGR2HSV)\n",
    "    \n",
    "    lowerLimit = hsvC[0][0][0] - 10, 100, 100\n",
    "    upperLimit = hsvC[0][0][0] + 10, 255, 255\n",
    "    \n",
    "    lowerLimit = np.array(lowerLimit, dtype=np.uint8)\n",
    "    upperLimit = np.array(upperLimit, dtype=np.uint8)\n",
    "    \n",
    "    return lowerLimit, upperLimit\n",
    "    "
   ]
  },
  {
   "cell_type": "code",
   "execution_count": 4,
   "metadata": {},
   "outputs": [],
   "source": [
    "cap = cv.VideoCapture(0)\n",
    "\n",
    "while True:\n",
    "    ret, frame = cap.read()\n",
    "    \n",
    "    frame_blur = cv.GaussianBlur(frame, (7, 7), 2.0)\n",
    "    \n",
    "    hsv = cv.cvtColor(frame_blur, cv.COLOR_BGR2HSV)\n",
    "    \n",
    "    yellow = [0, 255, 255]\n",
    "    pink   = [203, 192, 255]\n",
    "    \n",
    "    lowerP, upperP = getLimits(pink)\n",
    "    lowerY, upperY = getLimits(yellow)\n",
    "    \n",
    "    maskPink = cv.inRange(hsv, lowerP, upperP)\n",
    "    maskYellow = cv.inRange(hsv, lowerY, upperY)\n",
    "    \n",
    "    mask = cv.bitwise_or(maskPink, maskYellow)\n",
    "    \n",
    "    kernel = np.ones((5, 5), np.uint8)\n",
    "    mask = cv.morphologyEx(mask, cv.MORPH_OPEN, kernel)\n",
    "    \n",
    "    contours, _ = cv.findContours(mask, cv.RETR_EXTERNAL, cv.CHAIN_APPROX_SIMPLE)\n",
    "    \n",
    "    if contours:\n",
    "        c = max(contours, key=cv.contourArea)\n",
    "        x, y, w, h = cv.boundingRect(c)\n",
    "        if(w > 20 and h > 20):\n",
    "            frame = cv.rectangle(frame, (x, y), (x + w, y + h), (255, 0, 0), 2)\n",
    "\n",
    "    cv.imshow('frame', frame)\n",
    "    cv.imshow('mask', mask)\n",
    "    \n",
    "    if (cv.waitKey(1) & 0xFF == ord('q')):\n",
    "        break\n",
    "    \n",
    "cap.release()\n",
    "cv.destroyAllWindows()"
   ]
  }
 ],
 "metadata": {
  "kernelspec": {
   "display_name": "Python 3",
   "language": "python",
   "name": "python3"
  },
  "language_info": {
   "codemirror_mode": {
    "name": "ipython",
    "version": 3
   },
   "file_extension": ".py",
   "mimetype": "text/x-python",
   "name": "python",
   "nbconvert_exporter": "python",
   "pygments_lexer": "ipython3",
   "version": "3.11.9"
  }
 },
 "nbformat": 4,
 "nbformat_minor": 2
}
